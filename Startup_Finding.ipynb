{
 "cells": [
  {
   "cell_type": "code",
   "execution_count": 9,
   "metadata": {},
   "outputs": [],
   "source": [
    "import numpy as np\n",
    "import pandas as pd\n",
    "import matplotlib.pyplot as plt\n",
    "%matplotlib inline\n",
    "import seaborn as sns\n",
    "import os"
   ]
  },
  {
   "cell_type": "markdown",
   "metadata": {},
   "source": [
    "# Gathering Data"
   ]
  },
  {
   "cell_type": "code",
   "execution_count": 10,
   "metadata": {},
   "outputs": [],
   "source": [
    "data=pd.read_csv('startup_funding.csv')"
   ]
  },
  {
   "cell_type": "code",
   "execution_count": 11,
   "metadata": {},
   "outputs": [
    {
     "data": {
      "text/html": [
       "<div>\n",
       "<style scoped>\n",
       "    .dataframe tbody tr th:only-of-type {\n",
       "        vertical-align: middle;\n",
       "    }\n",
       "\n",
       "    .dataframe tbody tr th {\n",
       "        vertical-align: top;\n",
       "    }\n",
       "\n",
       "    .dataframe thead th {\n",
       "        text-align: right;\n",
       "    }\n",
       "</style>\n",
       "<table border=\"1\" class=\"dataframe\">\n",
       "  <thead>\n",
       "    <tr style=\"text-align: right;\">\n",
       "      <th></th>\n",
       "      <th>SNo</th>\n",
       "      <th>Date</th>\n",
       "      <th>StartupName</th>\n",
       "      <th>IndustryVertical</th>\n",
       "      <th>SubVertical</th>\n",
       "      <th>CityLocation</th>\n",
       "      <th>InvestorsName</th>\n",
       "      <th>InvestmentType</th>\n",
       "      <th>AmountInUSD</th>\n",
       "      <th>Remarks</th>\n",
       "    </tr>\n",
       "  </thead>\n",
       "  <tbody>\n",
       "    <tr>\n",
       "      <th>0</th>\n",
       "      <td>0</td>\n",
       "      <td>01/08/2017</td>\n",
       "      <td>TouchKin</td>\n",
       "      <td>Technology</td>\n",
       "      <td>Predictive Care Platform</td>\n",
       "      <td>Bangalore</td>\n",
       "      <td>Kae Capital</td>\n",
       "      <td>Private Equity</td>\n",
       "      <td>1,300,000</td>\n",
       "      <td>NaN</td>\n",
       "    </tr>\n",
       "    <tr>\n",
       "      <th>1</th>\n",
       "      <td>1</td>\n",
       "      <td>02/08/2017</td>\n",
       "      <td>Ethinos</td>\n",
       "      <td>Technology</td>\n",
       "      <td>Digital Marketing Agency</td>\n",
       "      <td>Mumbai</td>\n",
       "      <td>Triton Investment Advisors</td>\n",
       "      <td>Private Equity</td>\n",
       "      <td>NaN</td>\n",
       "      <td>NaN</td>\n",
       "    </tr>\n",
       "    <tr>\n",
       "      <th>2</th>\n",
       "      <td>2</td>\n",
       "      <td>02/08/2017</td>\n",
       "      <td>Leverage Edu</td>\n",
       "      <td>Consumer Internet</td>\n",
       "      <td>Online platform for Higher Education Services</td>\n",
       "      <td>New Delhi</td>\n",
       "      <td>Kashyap Deorah, Anand Sankeshwar, Deepak Jain,...</td>\n",
       "      <td>Seed Funding</td>\n",
       "      <td>NaN</td>\n",
       "      <td>NaN</td>\n",
       "    </tr>\n",
       "    <tr>\n",
       "      <th>3</th>\n",
       "      <td>3</td>\n",
       "      <td>02/08/2017</td>\n",
       "      <td>Zepo</td>\n",
       "      <td>Consumer Internet</td>\n",
       "      <td>DIY Ecommerce platform</td>\n",
       "      <td>Mumbai</td>\n",
       "      <td>Kunal Shah, LetsVenture, Anupam Mittal, Hetal ...</td>\n",
       "      <td>Seed Funding</td>\n",
       "      <td>500,000</td>\n",
       "      <td>NaN</td>\n",
       "    </tr>\n",
       "    <tr>\n",
       "      <th>4</th>\n",
       "      <td>4</td>\n",
       "      <td>02/08/2017</td>\n",
       "      <td>Click2Clinic</td>\n",
       "      <td>Consumer Internet</td>\n",
       "      <td>healthcare service aggregator</td>\n",
       "      <td>Hyderabad</td>\n",
       "      <td>Narottam Thudi, Shireesh Palle</td>\n",
       "      <td>Seed Funding</td>\n",
       "      <td>850,000</td>\n",
       "      <td>NaN</td>\n",
       "    </tr>\n",
       "    <tr>\n",
       "      <th>5</th>\n",
       "      <td>5</td>\n",
       "      <td>01/07/2017</td>\n",
       "      <td>Billion Loans</td>\n",
       "      <td>Consumer Internet</td>\n",
       "      <td>Peer to Peer Lending platform</td>\n",
       "      <td>Bangalore</td>\n",
       "      <td>Reliance Corporate Advisory Services Ltd</td>\n",
       "      <td>Seed Funding</td>\n",
       "      <td>1,000,000</td>\n",
       "      <td>NaN</td>\n",
       "    </tr>\n",
       "    <tr>\n",
       "      <th>6</th>\n",
       "      <td>6</td>\n",
       "      <td>03/07/2017</td>\n",
       "      <td>Ecolibriumenergy</td>\n",
       "      <td>Technology</td>\n",
       "      <td>Energy management solutions provider</td>\n",
       "      <td>Ahmedabad</td>\n",
       "      <td>Infuse Ventures, JLL</td>\n",
       "      <td>Private Equity</td>\n",
       "      <td>2,600,000</td>\n",
       "      <td>NaN</td>\n",
       "    </tr>\n",
       "    <tr>\n",
       "      <th>7</th>\n",
       "      <td>7</td>\n",
       "      <td>04/07/2017</td>\n",
       "      <td>Droom</td>\n",
       "      <td>eCommerce</td>\n",
       "      <td>Online marketplace for automobiles</td>\n",
       "      <td>Gurgaon</td>\n",
       "      <td>Asset Management (Asia) Ltd, Digital Garage Inc</td>\n",
       "      <td>Private Equity</td>\n",
       "      <td>20,000,000</td>\n",
       "      <td>NaN</td>\n",
       "    </tr>\n",
       "    <tr>\n",
       "      <th>8</th>\n",
       "      <td>8</td>\n",
       "      <td>05/07/2017</td>\n",
       "      <td>Jumbotail</td>\n",
       "      <td>eCommerce</td>\n",
       "      <td>online marketplace for food and grocery</td>\n",
       "      <td>Bangalore</td>\n",
       "      <td>Kalaari Capital, Nexus India Capital Advisors</td>\n",
       "      <td>Private Equity</td>\n",
       "      <td>8,500,000</td>\n",
       "      <td>NaN</td>\n",
       "    </tr>\n",
       "    <tr>\n",
       "      <th>9</th>\n",
       "      <td>9</td>\n",
       "      <td>05/07/2017</td>\n",
       "      <td>Moglix</td>\n",
       "      <td>eCommerce</td>\n",
       "      <td>B2B marketplace for Industrial products</td>\n",
       "      <td>Noida</td>\n",
       "      <td>International Finance Corporation, Rocketship,...</td>\n",
       "      <td>Private Equity</td>\n",
       "      <td>12,000,000</td>\n",
       "      <td>NaN</td>\n",
       "    </tr>\n",
       "    <tr>\n",
       "      <th>10</th>\n",
       "      <td>10</td>\n",
       "      <td>05/07/2017</td>\n",
       "      <td>Timesaverz</td>\n",
       "      <td>Consumer Internet</td>\n",
       "      <td>Hyperlocal home services provider</td>\n",
       "      <td>Mumbai</td>\n",
       "      <td>BCCL</td>\n",
       "      <td>Private Equity</td>\n",
       "      <td>1,000,000</td>\n",
       "      <td>NaN</td>\n",
       "    </tr>\n",
       "    <tr>\n",
       "      <th>11</th>\n",
       "      <td>11</td>\n",
       "      <td>06/07/2017</td>\n",
       "      <td>Minjar</td>\n",
       "      <td>Technology</td>\n",
       "      <td>Cloud Solutions provider</td>\n",
       "      <td>Bangalore</td>\n",
       "      <td>Blume Ventures, Contrarian Capital India Partn...</td>\n",
       "      <td>Seed Funding</td>\n",
       "      <td>NaN</td>\n",
       "      <td>NaN</td>\n",
       "    </tr>\n",
       "    <tr>\n",
       "      <th>12</th>\n",
       "      <td>12</td>\n",
       "      <td>06/07/2017</td>\n",
       "      <td>MyCity4kids</td>\n",
       "      <td>Consumer Internet</td>\n",
       "      <td>parenting blog and kids’ events discovery plat...</td>\n",
       "      <td>Gurgaon</td>\n",
       "      <td>NaN</td>\n",
       "      <td>Seed Funding</td>\n",
       "      <td>NaN</td>\n",
       "      <td>NaN</td>\n",
       "    </tr>\n",
       "    <tr>\n",
       "      <th>13</th>\n",
       "      <td>13</td>\n",
       "      <td>07/07/2017</td>\n",
       "      <td>Clip App</td>\n",
       "      <td>Consumer Internet</td>\n",
       "      <td>Digital Media Video platform</td>\n",
       "      <td>Bangalore</td>\n",
       "      <td>India Quotient, Shunwei Capital</td>\n",
       "      <td>Seed Funding</td>\n",
       "      <td>1,000,000</td>\n",
       "      <td>NaN</td>\n",
       "    </tr>\n",
       "    <tr>\n",
       "      <th>14</th>\n",
       "      <td>14</td>\n",
       "      <td>07/07/2017</td>\n",
       "      <td>Upwardly.in</td>\n",
       "      <td>Consumer Internet</td>\n",
       "      <td>MF investment platform</td>\n",
       "      <td>Bangalore</td>\n",
       "      <td>Sreeram Iyer, Suvo Sarkar, Anita Gupta, Likemi...</td>\n",
       "      <td>Seed Funding</td>\n",
       "      <td>NaN</td>\n",
       "      <td>NaN</td>\n",
       "    </tr>\n",
       "    <tr>\n",
       "      <th>15</th>\n",
       "      <td>15</td>\n",
       "      <td>10/07/2017</td>\n",
       "      <td>Autorox.co</td>\n",
       "      <td>Technology</td>\n",
       "      <td>Workshop Management Software Platform</td>\n",
       "      <td>Hyderabad</td>\n",
       "      <td>Mitsui &amp; Co.</td>\n",
       "      <td>Private Equity</td>\n",
       "      <td>3,000,000</td>\n",
       "      <td>NaN</td>\n",
       "    </tr>\n",
       "    <tr>\n",
       "      <th>16</th>\n",
       "      <td>16</td>\n",
       "      <td>11/07/2017</td>\n",
       "      <td>Fabogo</td>\n",
       "      <td>Consumer Internet</td>\n",
       "      <td>Salon &amp; Spa Aggregation &amp; Discovery platform</td>\n",
       "      <td>Pune</td>\n",
       "      <td>Dunamis Ventures Pte Ltd</td>\n",
       "      <td>Private Equity</td>\n",
       "      <td>2,250,000</td>\n",
       "      <td>NaN</td>\n",
       "    </tr>\n",
       "    <tr>\n",
       "      <th>17</th>\n",
       "      <td>17</td>\n",
       "      <td>11/07/2017</td>\n",
       "      <td>Flickstree</td>\n",
       "      <td>Consumer Internet</td>\n",
       "      <td>Video Content Discovery Platform</td>\n",
       "      <td>Mumbai</td>\n",
       "      <td>Venture Catalysts, Sourav Ganguly, Ankit Adity...</td>\n",
       "      <td>Seed Funding</td>\n",
       "      <td>464,000</td>\n",
       "      <td>NaN</td>\n",
       "    </tr>\n",
       "    <tr>\n",
       "      <th>18</th>\n",
       "      <td>18</td>\n",
       "      <td>11/07/2017</td>\n",
       "      <td>Design Cafe</td>\n",
       "      <td>Consumer Internet</td>\n",
       "      <td>Online Interior Design platform</td>\n",
       "      <td>Bangalore</td>\n",
       "      <td>Fireside Ventures, Apurva Salarpuria, Sidharth...</td>\n",
       "      <td>Seed Funding</td>\n",
       "      <td>NaN</td>\n",
       "      <td>NaN</td>\n",
       "    </tr>\n",
       "    <tr>\n",
       "      <th>19</th>\n",
       "      <td>19</td>\n",
       "      <td>12/07/2017</td>\n",
       "      <td>Innoviti</td>\n",
       "      <td>Technology</td>\n",
       "      <td>Digital payments solutions</td>\n",
       "      <td>Bangalore</td>\n",
       "      <td>SBI-FMO Fund, Bessemer Venture Partners, Catam...</td>\n",
       "      <td>Private Equity</td>\n",
       "      <td>18,500,000</td>\n",
       "      <td>NaN</td>\n",
       "    </tr>\n",
       "    <tr>\n",
       "      <th>20</th>\n",
       "      <td>20</td>\n",
       "      <td>12/07/2017</td>\n",
       "      <td>VDeliver</td>\n",
       "      <td>Logistics</td>\n",
       "      <td>Door Step Delivery platform</td>\n",
       "      <td>Hyderabad</td>\n",
       "      <td>Corvus Ventures, MAPE Advisory Group</td>\n",
       "      <td>Private Equity</td>\n",
       "      <td>NaN</td>\n",
       "      <td>NaN</td>\n",
       "    </tr>\n",
       "    <tr>\n",
       "      <th>21</th>\n",
       "      <td>21</td>\n",
       "      <td>12/07/2017</td>\n",
       "      <td>Bottr.me</td>\n",
       "      <td>Technology</td>\n",
       "      <td>Chatbot creation tool</td>\n",
       "      <td>Bangalore</td>\n",
       "      <td>500 Startups, Purvi Capital, Rajan Anandan, Ab...</td>\n",
       "      <td>Seed Funding</td>\n",
       "      <td>NaN</td>\n",
       "      <td>NaN</td>\n",
       "    </tr>\n",
       "    <tr>\n",
       "      <th>22</th>\n",
       "      <td>22</td>\n",
       "      <td>12/07/2017</td>\n",
       "      <td>Arcatron</td>\n",
       "      <td>Technology</td>\n",
       "      <td>Next Gen Mobility device manufacturer</td>\n",
       "      <td>Pune</td>\n",
       "      <td>Indian Angel Network</td>\n",
       "      <td>Seed Funding</td>\n",
       "      <td>NaN</td>\n",
       "      <td>NaN</td>\n",
       "    </tr>\n",
       "    <tr>\n",
       "      <th>23</th>\n",
       "      <td>23</td>\n",
       "      <td>14/07/2017</td>\n",
       "      <td>QwikSpec</td>\n",
       "      <td>Technology</td>\n",
       "      <td>Construction site operations and analytics pla...</td>\n",
       "      <td>Bangalore</td>\n",
       "      <td>Brigade Innovations LLP, TV Mohandas Pai, Suha...</td>\n",
       "      <td>Seed Funding</td>\n",
       "      <td>540,000</td>\n",
       "      <td>NaN</td>\n",
       "    </tr>\n",
       "    <tr>\n",
       "      <th>24</th>\n",
       "      <td>24</td>\n",
       "      <td>14/07/2017</td>\n",
       "      <td>Chumbak</td>\n",
       "      <td>eCommerce</td>\n",
       "      <td>Designer consumer products Marketplace</td>\n",
       "      <td>Bangalore</td>\n",
       "      <td>Blacksoil Capital Pvt. Ltd</td>\n",
       "      <td>Private Equity</td>\n",
       "      <td>1,700,000</td>\n",
       "      <td>NaN</td>\n",
       "    </tr>\n",
       "    <tr>\n",
       "      <th>25</th>\n",
       "      <td>25</td>\n",
       "      <td>17/07/2017</td>\n",
       "      <td>Increff</td>\n",
       "      <td>Technology</td>\n",
       "      <td>Sales Solutions for Fashion Brands</td>\n",
       "      <td>Bangalore</td>\n",
       "      <td>Sequoia Capital, Grey Orange, Rajesh Ramaiah, ...</td>\n",
       "      <td>Seed Funding</td>\n",
       "      <td>2,000,000</td>\n",
       "      <td>NaN</td>\n",
       "    </tr>\n",
       "    <tr>\n",
       "      <th>26</th>\n",
       "      <td>26</td>\n",
       "      <td>17/07/2017</td>\n",
       "      <td>Vayana</td>\n",
       "      <td>Technology</td>\n",
       "      <td>Enterprise Banking Solutions</td>\n",
       "      <td>Pune</td>\n",
       "      <td>IDG Ventures India Advisors, Jungle Ventures</td>\n",
       "      <td>Private Equity</td>\n",
       "      <td>4,000,000</td>\n",
       "      <td>NaN</td>\n",
       "    </tr>\n",
       "    <tr>\n",
       "      <th>27</th>\n",
       "      <td>27</td>\n",
       "      <td>18/07/2017</td>\n",
       "      <td>MObiquest</td>\n",
       "      <td>Technology</td>\n",
       "      <td>Mobile Services &amp; Solutions</td>\n",
       "      <td>Noida</td>\n",
       "      <td>One97 Communication Ltd</td>\n",
       "      <td>Private Equity</td>\n",
       "      <td>NaN</td>\n",
       "      <td>NaN</td>\n",
       "    </tr>\n",
       "    <tr>\n",
       "      <th>28</th>\n",
       "      <td>28</td>\n",
       "      <td>18/07/2017</td>\n",
       "      <td>Ambee</td>\n",
       "      <td>Consumer Internet</td>\n",
       "      <td>Ambulance Aggregation Services</td>\n",
       "      <td>Hyderabad</td>\n",
       "      <td>Uber Technologies Inc, Amaya Capital LLP</td>\n",
       "      <td>Seed Funding</td>\n",
       "      <td>NaN</td>\n",
       "      <td>NaN</td>\n",
       "    </tr>\n",
       "    <tr>\n",
       "      <th>29</th>\n",
       "      <td>29</td>\n",
       "      <td>18/07/2017</td>\n",
       "      <td>Ideal Insurance</td>\n",
       "      <td>Consumer Internet</td>\n",
       "      <td>Online Insurance platform</td>\n",
       "      <td>Kolkata</td>\n",
       "      <td>Xelpmoc</td>\n",
       "      <td>Seed Funding</td>\n",
       "      <td>NaN</td>\n",
       "      <td>NaN</td>\n",
       "    </tr>\n",
       "    <tr>\n",
       "      <th>...</th>\n",
       "      <td>...</td>\n",
       "      <td>...</td>\n",
       "      <td>...</td>\n",
       "      <td>...</td>\n",
       "      <td>...</td>\n",
       "      <td>...</td>\n",
       "      <td>...</td>\n",
       "      <td>...</td>\n",
       "      <td>...</td>\n",
       "      <td>...</td>\n",
       "    </tr>\n",
       "    <tr>\n",
       "      <th>2342</th>\n",
       "      <td>2342</td>\n",
       "      <td>19/01/2015</td>\n",
       "      <td>Refiral</td>\n",
       "      <td>NaN</td>\n",
       "      <td>NaN</td>\n",
       "      <td>NaN</td>\n",
       "      <td>Cogent E Services</td>\n",
       "      <td>Seed Funding</td>\n",
       "      <td>330,000</td>\n",
       "      <td>NaN</td>\n",
       "    </tr>\n",
       "    <tr>\n",
       "      <th>2343</th>\n",
       "      <td>2343</td>\n",
       "      <td>19/01/2015</td>\n",
       "      <td>Ping Digital</td>\n",
       "      <td>NaN</td>\n",
       "      <td>NaN</td>\n",
       "      <td>NaN</td>\n",
       "      <td>Consortium of Angel Investors</td>\n",
       "      <td>Seed Funding</td>\n",
       "      <td>NaN</td>\n",
       "      <td>NaN</td>\n",
       "    </tr>\n",
       "    <tr>\n",
       "      <th>2344</th>\n",
       "      <td>2344</td>\n",
       "      <td>19/01/2015</td>\n",
       "      <td>HealthyWorld.in</td>\n",
       "      <td>NaN</td>\n",
       "      <td>NaN</td>\n",
       "      <td>NaN</td>\n",
       "      <td>Group of Angel Investors</td>\n",
       "      <td>Seed Funding</td>\n",
       "      <td>200,000</td>\n",
       "      <td>NaN</td>\n",
       "    </tr>\n",
       "    <tr>\n",
       "      <th>2345</th>\n",
       "      <td>2345</td>\n",
       "      <td>19/01/2015</td>\n",
       "      <td>Hostel Dunia</td>\n",
       "      <td>NaN</td>\n",
       "      <td>NaN</td>\n",
       "      <td>NaN</td>\n",
       "      <td>Hyderabad Angels (at Startup Heroes event)</td>\n",
       "      <td>Seed Funding</td>\n",
       "      <td>16,000</td>\n",
       "      <td>NaN</td>\n",
       "    </tr>\n",
       "    <tr>\n",
       "      <th>2346</th>\n",
       "      <td>2346</td>\n",
       "      <td>19/01/2015</td>\n",
       "      <td>Play your sport</td>\n",
       "      <td>NaN</td>\n",
       "      <td>NaN</td>\n",
       "      <td>NaN</td>\n",
       "      <td>Hyderabad Angels (at Startup Heroes event)</td>\n",
       "      <td>Seed Funding</td>\n",
       "      <td>16,000</td>\n",
       "      <td>NaN</td>\n",
       "    </tr>\n",
       "    <tr>\n",
       "      <th>2347</th>\n",
       "      <td>2347</td>\n",
       "      <td>19/01/2015</td>\n",
       "      <td>Yo Grad</td>\n",
       "      <td>NaN</td>\n",
       "      <td>NaN</td>\n",
       "      <td>NaN</td>\n",
       "      <td>Hyderabad Angels (at Startup Heroes event)</td>\n",
       "      <td>Seed Funding</td>\n",
       "      <td>16,000</td>\n",
       "      <td>NaN</td>\n",
       "    </tr>\n",
       "    <tr>\n",
       "      <th>2348</th>\n",
       "      <td>2348</td>\n",
       "      <td>19/01/2015</td>\n",
       "      <td>Enabli</td>\n",
       "      <td>NaN</td>\n",
       "      <td>NaN</td>\n",
       "      <td>NaN</td>\n",
       "      <td>Hyderabad Angels (at Startup Heroes event)</td>\n",
       "      <td>Seed Funding</td>\n",
       "      <td>16,000</td>\n",
       "      <td>NaN</td>\n",
       "    </tr>\n",
       "    <tr>\n",
       "      <th>2349</th>\n",
       "      <td>2349</td>\n",
       "      <td>19/01/2015</td>\n",
       "      <td>CBS</td>\n",
       "      <td>NaN</td>\n",
       "      <td>NaN</td>\n",
       "      <td>NaN</td>\n",
       "      <td>Hyderabad Angels (at Startup Heroes event)</td>\n",
       "      <td>Seed Funding</td>\n",
       "      <td>16,000</td>\n",
       "      <td>NaN</td>\n",
       "    </tr>\n",
       "    <tr>\n",
       "      <th>2350</th>\n",
       "      <td>2350</td>\n",
       "      <td>20/01/2015</td>\n",
       "      <td>Hopscotch</td>\n",
       "      <td>NaN</td>\n",
       "      <td>NaN</td>\n",
       "      <td>NaN</td>\n",
       "      <td>Eduardo Saverin &amp; Velos Capital</td>\n",
       "      <td>Private Equity</td>\n",
       "      <td>11,000,000</td>\n",
       "      <td>NaN</td>\n",
       "    </tr>\n",
       "    <tr>\n",
       "      <th>2351</th>\n",
       "      <td>2351</td>\n",
       "      <td>20/01/2015</td>\n",
       "      <td>Amagi Media Labs</td>\n",
       "      <td>NaN</td>\n",
       "      <td>NaN</td>\n",
       "      <td>NaN</td>\n",
       "      <td>Premji Invest &amp; Mayfield Fund</td>\n",
       "      <td>Private Equity</td>\n",
       "      <td>NaN</td>\n",
       "      <td>NaN</td>\n",
       "    </tr>\n",
       "    <tr>\n",
       "      <th>2352</th>\n",
       "      <td>2352</td>\n",
       "      <td>20/01/2015</td>\n",
       "      <td>HealthyWorld.in</td>\n",
       "      <td>NaN</td>\n",
       "      <td>NaN</td>\n",
       "      <td>NaN</td>\n",
       "      <td>Group of Angel Investors</td>\n",
       "      <td>Seed Funding</td>\n",
       "      <td>200,000</td>\n",
       "      <td>NaN</td>\n",
       "    </tr>\n",
       "    <tr>\n",
       "      <th>2353</th>\n",
       "      <td>2353</td>\n",
       "      <td>21/01/2015</td>\n",
       "      <td>Simplilearn</td>\n",
       "      <td>NaN</td>\n",
       "      <td>NaN</td>\n",
       "      <td>NaN</td>\n",
       "      <td>Mayfield India, Kalaari Capital, Helion Ventures</td>\n",
       "      <td>Private Equity</td>\n",
       "      <td>14,750,000</td>\n",
       "      <td>NaN</td>\n",
       "    </tr>\n",
       "    <tr>\n",
       "      <th>2354</th>\n",
       "      <td>2354</td>\n",
       "      <td>21/01/2015</td>\n",
       "      <td>MyDreamStore</td>\n",
       "      <td>NaN</td>\n",
       "      <td>NaN</td>\n",
       "      <td>NaN</td>\n",
       "      <td>Undisclosed Investors</td>\n",
       "      <td>Seed Funding</td>\n",
       "      <td>325,000</td>\n",
       "      <td>NaN</td>\n",
       "    </tr>\n",
       "    <tr>\n",
       "      <th>2355</th>\n",
       "      <td>2355</td>\n",
       "      <td>21/05/2015</td>\n",
       "      <td>Knit</td>\n",
       "      <td>NaN</td>\n",
       "      <td>NaN</td>\n",
       "      <td>NaN</td>\n",
       "      <td>Rohit Jain, Amit Rambhia &amp; Others</td>\n",
       "      <td>Seed Funding</td>\n",
       "      <td>NaN</td>\n",
       "      <td>NaN</td>\n",
       "    </tr>\n",
       "    <tr>\n",
       "      <th>2356</th>\n",
       "      <td>2356</td>\n",
       "      <td>21/05/2015</td>\n",
       "      <td>Villgro</td>\n",
       "      <td>NaN</td>\n",
       "      <td>NaN</td>\n",
       "      <td>NaN</td>\n",
       "      <td>Michael &amp; Susan Dell Foundation</td>\n",
       "      <td>Seed Funding</td>\n",
       "      <td>3,250,000</td>\n",
       "      <td>To fund edu startups</td>\n",
       "    </tr>\n",
       "    <tr>\n",
       "      <th>2357</th>\n",
       "      <td>2357</td>\n",
       "      <td>22/01//2015</td>\n",
       "      <td>Corporate360</td>\n",
       "      <td>NaN</td>\n",
       "      <td>NaN</td>\n",
       "      <td>NaN</td>\n",
       "      <td>Group of Angel Investors</td>\n",
       "      <td>Seed Funding</td>\n",
       "      <td>200,000</td>\n",
       "      <td>NaN</td>\n",
       "    </tr>\n",
       "    <tr>\n",
       "      <th>2358</th>\n",
       "      <td>2358</td>\n",
       "      <td>22/01/2015</td>\n",
       "      <td>Freshmonk</td>\n",
       "      <td>NaN</td>\n",
       "      <td>NaN</td>\n",
       "      <td>NaN</td>\n",
       "      <td>August Capital Partners, Michael Blakey</td>\n",
       "      <td>Seed Funding</td>\n",
       "      <td>NaN</td>\n",
       "      <td>NaN</td>\n",
       "    </tr>\n",
       "    <tr>\n",
       "      <th>2359</th>\n",
       "      <td>2359</td>\n",
       "      <td>22/01/2015</td>\n",
       "      <td>Englishleap.com</td>\n",
       "      <td>NaN</td>\n",
       "      <td>NaN</td>\n",
       "      <td>NaN</td>\n",
       "      <td>ANALEC</td>\n",
       "      <td>Private Equity</td>\n",
       "      <td>NaN</td>\n",
       "      <td>Majority Stake</td>\n",
       "    </tr>\n",
       "    <tr>\n",
       "      <th>2360</th>\n",
       "      <td>2360</td>\n",
       "      <td>22/01/2015</td>\n",
       "      <td>Antuit</td>\n",
       "      <td>NaN</td>\n",
       "      <td>NaN</td>\n",
       "      <td>NaN</td>\n",
       "      <td>Goldman Sachs, Zodius Capital</td>\n",
       "      <td>Private Equity</td>\n",
       "      <td>56,000,000</td>\n",
       "      <td>NaN</td>\n",
       "    </tr>\n",
       "    <tr>\n",
       "      <th>2361</th>\n",
       "      <td>2361</td>\n",
       "      <td>22/01/2015</td>\n",
       "      <td>Caratlane.com</td>\n",
       "      <td>NaN</td>\n",
       "      <td>NaN</td>\n",
       "      <td>NaN</td>\n",
       "      <td>Tiger Global</td>\n",
       "      <td>Private Equity</td>\n",
       "      <td>31,000,000</td>\n",
       "      <td>Series D</td>\n",
       "    </tr>\n",
       "    <tr>\n",
       "      <th>2362</th>\n",
       "      <td>2362</td>\n",
       "      <td>24/01/2015</td>\n",
       "      <td>Aasaanjobs</td>\n",
       "      <td>NaN</td>\n",
       "      <td>NaN</td>\n",
       "      <td>NaN</td>\n",
       "      <td>Inventus Capital Partners, IDG Ventures</td>\n",
       "      <td>Seed Funding</td>\n",
       "      <td>1,500,000</td>\n",
       "      <td>NaN</td>\n",
       "    </tr>\n",
       "    <tr>\n",
       "      <th>2363</th>\n",
       "      <td>2363</td>\n",
       "      <td>24/01/2015</td>\n",
       "      <td>Impartus</td>\n",
       "      <td>NaN</td>\n",
       "      <td>NaN</td>\n",
       "      <td>NaN</td>\n",
       "      <td>Kaizen Private Equity</td>\n",
       "      <td>Private Equity</td>\n",
       "      <td>NaN</td>\n",
       "      <td>Series A</td>\n",
       "    </tr>\n",
       "    <tr>\n",
       "      <th>2364</th>\n",
       "      <td>2364</td>\n",
       "      <td>25/01/2015</td>\n",
       "      <td>Thrill App</td>\n",
       "      <td>NaN</td>\n",
       "      <td>NaN</td>\n",
       "      <td>NaN</td>\n",
       "      <td>People Group (Shaadi.com)</td>\n",
       "      <td>Private Equity</td>\n",
       "      <td>1,000,000</td>\n",
       "      <td>Strategic Funding</td>\n",
       "    </tr>\n",
       "    <tr>\n",
       "      <th>2365</th>\n",
       "      <td>2365</td>\n",
       "      <td>27/01/2015</td>\n",
       "      <td>CarDekho.com</td>\n",
       "      <td>NaN</td>\n",
       "      <td>NaN</td>\n",
       "      <td>NaN</td>\n",
       "      <td>Hillhouse Capital, Tybourne Capital</td>\n",
       "      <td>Private Equity</td>\n",
       "      <td>50,000,000</td>\n",
       "      <td>Series B</td>\n",
       "    </tr>\n",
       "    <tr>\n",
       "      <th>2366</th>\n",
       "      <td>2366</td>\n",
       "      <td>28/01/2015</td>\n",
       "      <td>Grabhouse.com</td>\n",
       "      <td>NaN</td>\n",
       "      <td>NaN</td>\n",
       "      <td>NaN</td>\n",
       "      <td>Kalaari Capital, Sequoia Capital</td>\n",
       "      <td>Private Equity</td>\n",
       "      <td>2,500,000</td>\n",
       "      <td>Series A</td>\n",
       "    </tr>\n",
       "    <tr>\n",
       "      <th>2367</th>\n",
       "      <td>2367</td>\n",
       "      <td>29/01/2015</td>\n",
       "      <td>Printvenue</td>\n",
       "      <td>NaN</td>\n",
       "      <td>NaN</td>\n",
       "      <td>NaN</td>\n",
       "      <td>Asia Pacific Internet Group</td>\n",
       "      <td>Private Equity</td>\n",
       "      <td>4,500,000</td>\n",
       "      <td>NaN</td>\n",
       "    </tr>\n",
       "    <tr>\n",
       "      <th>2368</th>\n",
       "      <td>2368</td>\n",
       "      <td>29/01/2015</td>\n",
       "      <td>Graphene</td>\n",
       "      <td>NaN</td>\n",
       "      <td>NaN</td>\n",
       "      <td>NaN</td>\n",
       "      <td>KARSEMVEN Fund</td>\n",
       "      <td>Private Equity</td>\n",
       "      <td>825,000</td>\n",
       "      <td>Govt backed VC Fund</td>\n",
       "    </tr>\n",
       "    <tr>\n",
       "      <th>2369</th>\n",
       "      <td>2369</td>\n",
       "      <td>30/01/2015</td>\n",
       "      <td>Mad Street Den</td>\n",
       "      <td>NaN</td>\n",
       "      <td>NaN</td>\n",
       "      <td>NaN</td>\n",
       "      <td>Exfinity Fund, GrowX Ventures.</td>\n",
       "      <td>Private Equity</td>\n",
       "      <td>1,500,000</td>\n",
       "      <td>NaN</td>\n",
       "    </tr>\n",
       "    <tr>\n",
       "      <th>2370</th>\n",
       "      <td>2370</td>\n",
       "      <td>30/01/2015</td>\n",
       "      <td>Simplotel</td>\n",
       "      <td>NaN</td>\n",
       "      <td>NaN</td>\n",
       "      <td>NaN</td>\n",
       "      <td>MakeMyTrip</td>\n",
       "      <td>Private Equity</td>\n",
       "      <td>NaN</td>\n",
       "      <td>Strategic Funding, Minority stake</td>\n",
       "    </tr>\n",
       "    <tr>\n",
       "      <th>2371</th>\n",
       "      <td>2371</td>\n",
       "      <td>31/01/2015</td>\n",
       "      <td>couponmachine.in</td>\n",
       "      <td>NaN</td>\n",
       "      <td>NaN</td>\n",
       "      <td>NaN</td>\n",
       "      <td>UK based Group of Angel Investors</td>\n",
       "      <td>Seed Funding</td>\n",
       "      <td>140,000</td>\n",
       "      <td>NaN</td>\n",
       "    </tr>\n",
       "  </tbody>\n",
       "</table>\n",
       "<p>2372 rows × 10 columns</p>\n",
       "</div>"
      ],
      "text/plain": [
       "       SNo         Date       StartupName   IndustryVertical  \\\n",
       "0        0   01/08/2017          TouchKin         Technology   \n",
       "1        1   02/08/2017           Ethinos         Technology   \n",
       "2        2   02/08/2017      Leverage Edu  Consumer Internet   \n",
       "3        3   02/08/2017              Zepo  Consumer Internet   \n",
       "4        4   02/08/2017      Click2Clinic  Consumer Internet   \n",
       "5        5   01/07/2017     Billion Loans  Consumer Internet   \n",
       "6        6   03/07/2017  Ecolibriumenergy         Technology   \n",
       "7        7   04/07/2017             Droom          eCommerce   \n",
       "8        8   05/07/2017         Jumbotail          eCommerce   \n",
       "9        9   05/07/2017            Moglix          eCommerce   \n",
       "10      10   05/07/2017        Timesaverz  Consumer Internet   \n",
       "11      11   06/07/2017            Minjar         Technology   \n",
       "12      12   06/07/2017       MyCity4kids  Consumer Internet   \n",
       "13      13   07/07/2017          Clip App  Consumer Internet   \n",
       "14      14   07/07/2017       Upwardly.in  Consumer Internet   \n",
       "15      15   10/07/2017        Autorox.co         Technology   \n",
       "16      16   11/07/2017            Fabogo  Consumer Internet   \n",
       "17      17   11/07/2017        Flickstree  Consumer Internet   \n",
       "18      18   11/07/2017       Design Cafe  Consumer Internet   \n",
       "19      19   12/07/2017          Innoviti         Technology   \n",
       "20      20   12/07/2017          VDeliver          Logistics   \n",
       "21      21   12/07/2017          Bottr.me         Technology   \n",
       "22      22   12/07/2017          Arcatron         Technology   \n",
       "23      23   14/07/2017          QwikSpec         Technology   \n",
       "24      24   14/07/2017           Chumbak          eCommerce   \n",
       "25      25   17/07/2017           Increff         Technology   \n",
       "26      26   17/07/2017            Vayana         Technology   \n",
       "27      27   18/07/2017         MObiquest         Technology   \n",
       "28      28   18/07/2017             Ambee  Consumer Internet   \n",
       "29      29   18/07/2017   Ideal Insurance  Consumer Internet   \n",
       "...    ...          ...               ...                ...   \n",
       "2342  2342   19/01/2015           Refiral                NaN   \n",
       "2343  2343   19/01/2015      Ping Digital                NaN   \n",
       "2344  2344   19/01/2015   HealthyWorld.in                NaN   \n",
       "2345  2345   19/01/2015      Hostel Dunia                NaN   \n",
       "2346  2346   19/01/2015   Play your sport                NaN   \n",
       "2347  2347   19/01/2015           Yo Grad                NaN   \n",
       "2348  2348   19/01/2015            Enabli                NaN   \n",
       "2349  2349   19/01/2015               CBS                NaN   \n",
       "2350  2350   20/01/2015         Hopscotch                NaN   \n",
       "2351  2351   20/01/2015  Amagi Media Labs                NaN   \n",
       "2352  2352   20/01/2015   HealthyWorld.in                NaN   \n",
       "2353  2353   21/01/2015       Simplilearn                NaN   \n",
       "2354  2354   21/01/2015      MyDreamStore                NaN   \n",
       "2355  2355   21/05/2015              Knit                NaN   \n",
       "2356  2356   21/05/2015           Villgro                NaN   \n",
       "2357  2357  22/01//2015      Corporate360                NaN   \n",
       "2358  2358   22/01/2015         Freshmonk                NaN   \n",
       "2359  2359   22/01/2015   Englishleap.com                NaN   \n",
       "2360  2360   22/01/2015            Antuit                NaN   \n",
       "2361  2361   22/01/2015     Caratlane.com                NaN   \n",
       "2362  2362   24/01/2015        Aasaanjobs                NaN   \n",
       "2363  2363   24/01/2015          Impartus                NaN   \n",
       "2364  2364   25/01/2015        Thrill App                NaN   \n",
       "2365  2365   27/01/2015      CarDekho.com                NaN   \n",
       "2366  2366   28/01/2015     Grabhouse.com                NaN   \n",
       "2367  2367   29/01/2015        Printvenue                NaN   \n",
       "2368  2368   29/01/2015          Graphene                NaN   \n",
       "2369  2369   30/01/2015    Mad Street Den                NaN   \n",
       "2370  2370   30/01/2015         Simplotel                NaN   \n",
       "2371  2371   31/01/2015  couponmachine.in                NaN   \n",
       "\n",
       "                                            SubVertical CityLocation  \\\n",
       "0                              Predictive Care Platform    Bangalore   \n",
       "1                              Digital Marketing Agency       Mumbai   \n",
       "2         Online platform for Higher Education Services    New Delhi   \n",
       "3                                DIY Ecommerce platform       Mumbai   \n",
       "4                         healthcare service aggregator    Hyderabad   \n",
       "5                         Peer to Peer Lending platform    Bangalore   \n",
       "6                  Energy management solutions provider    Ahmedabad   \n",
       "7                    Online marketplace for automobiles      Gurgaon   \n",
       "8               online marketplace for food and grocery    Bangalore   \n",
       "9               B2B marketplace for Industrial products        Noida   \n",
       "10                    Hyperlocal home services provider       Mumbai   \n",
       "11                             Cloud Solutions provider    Bangalore   \n",
       "12    parenting blog and kids’ events discovery plat...      Gurgaon   \n",
       "13                         Digital Media Video platform    Bangalore   \n",
       "14                               MF investment platform    Bangalore   \n",
       "15                Workshop Management Software Platform    Hyderabad   \n",
       "16         Salon & Spa Aggregation & Discovery platform         Pune   \n",
       "17                     Video Content Discovery Platform       Mumbai   \n",
       "18                      Online Interior Design platform    Bangalore   \n",
       "19                           Digital payments solutions    Bangalore   \n",
       "20                          Door Step Delivery platform    Hyderabad   \n",
       "21                                Chatbot creation tool    Bangalore   \n",
       "22                Next Gen Mobility device manufacturer         Pune   \n",
       "23    Construction site operations and analytics pla...    Bangalore   \n",
       "24               Designer consumer products Marketplace    Bangalore   \n",
       "25                   Sales Solutions for Fashion Brands    Bangalore   \n",
       "26                         Enterprise Banking Solutions         Pune   \n",
       "27                          Mobile Services & Solutions        Noida   \n",
       "28                       Ambulance Aggregation Services    Hyderabad   \n",
       "29                            Online Insurance platform      Kolkata   \n",
       "...                                                 ...          ...   \n",
       "2342                                                NaN          NaN   \n",
       "2343                                                NaN          NaN   \n",
       "2344                                                NaN          NaN   \n",
       "2345                                                NaN          NaN   \n",
       "2346                                                NaN          NaN   \n",
       "2347                                                NaN          NaN   \n",
       "2348                                                NaN          NaN   \n",
       "2349                                                NaN          NaN   \n",
       "2350                                                NaN          NaN   \n",
       "2351                                                NaN          NaN   \n",
       "2352                                                NaN          NaN   \n",
       "2353                                                NaN          NaN   \n",
       "2354                                                NaN          NaN   \n",
       "2355                                                NaN          NaN   \n",
       "2356                                                NaN          NaN   \n",
       "2357                                                NaN          NaN   \n",
       "2358                                                NaN          NaN   \n",
       "2359                                                NaN          NaN   \n",
       "2360                                                NaN          NaN   \n",
       "2361                                                NaN          NaN   \n",
       "2362                                                NaN          NaN   \n",
       "2363                                                NaN          NaN   \n",
       "2364                                                NaN          NaN   \n",
       "2365                                                NaN          NaN   \n",
       "2366                                                NaN          NaN   \n",
       "2367                                                NaN          NaN   \n",
       "2368                                                NaN          NaN   \n",
       "2369                                                NaN          NaN   \n",
       "2370                                                NaN          NaN   \n",
       "2371                                                NaN          NaN   \n",
       "\n",
       "                                          InvestorsName  InvestmentType  \\\n",
       "0                                           Kae Capital  Private Equity   \n",
       "1                            Triton Investment Advisors  Private Equity   \n",
       "2     Kashyap Deorah, Anand Sankeshwar, Deepak Jain,...    Seed Funding   \n",
       "3     Kunal Shah, LetsVenture, Anupam Mittal, Hetal ...    Seed Funding   \n",
       "4                        Narottam Thudi, Shireesh Palle    Seed Funding   \n",
       "5              Reliance Corporate Advisory Services Ltd    Seed Funding   \n",
       "6                                  Infuse Ventures, JLL  Private Equity   \n",
       "7       Asset Management (Asia) Ltd, Digital Garage Inc  Private Equity   \n",
       "8         Kalaari Capital, Nexus India Capital Advisors  Private Equity   \n",
       "9     International Finance Corporation, Rocketship,...  Private Equity   \n",
       "10                                                 BCCL  Private Equity   \n",
       "11    Blume Ventures, Contrarian Capital India Partn...    Seed Funding   \n",
       "12                                                  NaN    Seed Funding   \n",
       "13                      India Quotient, Shunwei Capital    Seed Funding   \n",
       "14    Sreeram Iyer, Suvo Sarkar, Anita Gupta, Likemi...    Seed Funding   \n",
       "15                                         Mitsui & Co.  Private Equity   \n",
       "16                             Dunamis Ventures Pte Ltd  Private Equity   \n",
       "17    Venture Catalysts, Sourav Ganguly, Ankit Adity...    Seed Funding   \n",
       "18    Fireside Ventures, Apurva Salarpuria, Sidharth...    Seed Funding   \n",
       "19    SBI-FMO Fund, Bessemer Venture Partners, Catam...  Private Equity   \n",
       "20                 Corvus Ventures, MAPE Advisory Group  Private Equity   \n",
       "21    500 Startups, Purvi Capital, Rajan Anandan, Ab...    Seed Funding   \n",
       "22                                 Indian Angel Network    Seed Funding   \n",
       "23    Brigade Innovations LLP, TV Mohandas Pai, Suha...    Seed Funding   \n",
       "24                           Blacksoil Capital Pvt. Ltd  Private Equity   \n",
       "25    Sequoia Capital, Grey Orange, Rajesh Ramaiah, ...    Seed Funding   \n",
       "26         IDG Ventures India Advisors, Jungle Ventures  Private Equity   \n",
       "27                              One97 Communication Ltd  Private Equity   \n",
       "28             Uber Technologies Inc, Amaya Capital LLP    Seed Funding   \n",
       "29                                              Xelpmoc    Seed Funding   \n",
       "...                                                 ...             ...   \n",
       "2342                                  Cogent E Services    Seed Funding   \n",
       "2343                      Consortium of Angel Investors    Seed Funding   \n",
       "2344                           Group of Angel Investors    Seed Funding   \n",
       "2345         Hyderabad Angels (at Startup Heroes event)    Seed Funding   \n",
       "2346         Hyderabad Angels (at Startup Heroes event)    Seed Funding   \n",
       "2347         Hyderabad Angels (at Startup Heroes event)    Seed Funding   \n",
       "2348         Hyderabad Angels (at Startup Heroes event)    Seed Funding   \n",
       "2349         Hyderabad Angels (at Startup Heroes event)    Seed Funding   \n",
       "2350                    Eduardo Saverin & Velos Capital  Private Equity   \n",
       "2351                      Premji Invest & Mayfield Fund  Private Equity   \n",
       "2352                           Group of Angel Investors    Seed Funding   \n",
       "2353   Mayfield India, Kalaari Capital, Helion Ventures  Private Equity   \n",
       "2354                              Undisclosed Investors    Seed Funding   \n",
       "2355                  Rohit Jain, Amit Rambhia & Others    Seed Funding   \n",
       "2356                    Michael & Susan Dell Foundation    Seed Funding   \n",
       "2357                           Group of Angel Investors    Seed Funding   \n",
       "2358            August Capital Partners, Michael Blakey    Seed Funding   \n",
       "2359                                             ANALEC  Private Equity   \n",
       "2360                      Goldman Sachs, Zodius Capital  Private Equity   \n",
       "2361                                       Tiger Global  Private Equity   \n",
       "2362            Inventus Capital Partners, IDG Ventures    Seed Funding   \n",
       "2363                              Kaizen Private Equity  Private Equity   \n",
       "2364                          People Group (Shaadi.com)  Private Equity   \n",
       "2365                Hillhouse Capital, Tybourne Capital  Private Equity   \n",
       "2366                   Kalaari Capital, Sequoia Capital  Private Equity   \n",
       "2367                        Asia Pacific Internet Group  Private Equity   \n",
       "2368                                     KARSEMVEN Fund  Private Equity   \n",
       "2369                     Exfinity Fund, GrowX Ventures.  Private Equity   \n",
       "2370                                         MakeMyTrip  Private Equity   \n",
       "2371                  UK based Group of Angel Investors    Seed Funding   \n",
       "\n",
       "     AmountInUSD                            Remarks  \n",
       "0      1,300,000                                NaN  \n",
       "1            NaN                                NaN  \n",
       "2            NaN                                NaN  \n",
       "3        500,000                                NaN  \n",
       "4        850,000                                NaN  \n",
       "5      1,000,000                                NaN  \n",
       "6      2,600,000                                NaN  \n",
       "7     20,000,000                                NaN  \n",
       "8      8,500,000                                NaN  \n",
       "9     12,000,000                                NaN  \n",
       "10     1,000,000                                NaN  \n",
       "11           NaN                                NaN  \n",
       "12           NaN                                NaN  \n",
       "13     1,000,000                                NaN  \n",
       "14           NaN                                NaN  \n",
       "15     3,000,000                                NaN  \n",
       "16     2,250,000                                NaN  \n",
       "17       464,000                                NaN  \n",
       "18           NaN                                NaN  \n",
       "19    18,500,000                                NaN  \n",
       "20           NaN                                NaN  \n",
       "21           NaN                                NaN  \n",
       "22           NaN                                NaN  \n",
       "23       540,000                                NaN  \n",
       "24     1,700,000                                NaN  \n",
       "25     2,000,000                                NaN  \n",
       "26     4,000,000                                NaN  \n",
       "27           NaN                                NaN  \n",
       "28           NaN                                NaN  \n",
       "29           NaN                                NaN  \n",
       "...          ...                                ...  \n",
       "2342     330,000                                NaN  \n",
       "2343         NaN                                NaN  \n",
       "2344     200,000                                NaN  \n",
       "2345      16,000                                NaN  \n",
       "2346      16,000                                NaN  \n",
       "2347      16,000                                NaN  \n",
       "2348      16,000                                NaN  \n",
       "2349      16,000                                NaN  \n",
       "2350  11,000,000                                NaN  \n",
       "2351         NaN                                NaN  \n",
       "2352     200,000                                NaN  \n",
       "2353  14,750,000                                NaN  \n",
       "2354     325,000                                NaN  \n",
       "2355         NaN                                NaN  \n",
       "2356   3,250,000               To fund edu startups  \n",
       "2357     200,000                                NaN  \n",
       "2358         NaN                                NaN  \n",
       "2359         NaN                     Majority Stake  \n",
       "2360  56,000,000                                NaN  \n",
       "2361  31,000,000                           Series D  \n",
       "2362   1,500,000                                NaN  \n",
       "2363         NaN                           Series A  \n",
       "2364   1,000,000                  Strategic Funding  \n",
       "2365  50,000,000                           Series B  \n",
       "2366   2,500,000                           Series A  \n",
       "2367   4,500,000                                NaN  \n",
       "2368     825,000                Govt backed VC Fund  \n",
       "2369   1,500,000                                NaN  \n",
       "2370         NaN  Strategic Funding, Minority stake  \n",
       "2371     140,000                                NaN  \n",
       "\n",
       "[2372 rows x 10 columns]"
      ]
     },
     "execution_count": 11,
     "metadata": {},
     "output_type": "execute_result"
    }
   ],
   "source": [
    "data"
   ]
  },
  {
   "cell_type": "markdown",
   "metadata": {},
   "source": [
    "# Assessing Data"
   ]
  },
  {
   "cell_type": "code",
   "execution_count": 12,
   "metadata": {},
   "outputs": [
    {
     "data": {
      "text/plain": [
       "(2372, 10)"
      ]
     },
     "execution_count": 12,
     "metadata": {},
     "output_type": "execute_result"
    }
   ],
   "source": [
    "data.shape"
   ]
  },
  {
   "cell_type": "code",
   "execution_count": 13,
   "metadata": {},
   "outputs": [
    {
     "name": "stdout",
     "output_type": "stream",
     "text": [
      "<class 'pandas.core.frame.DataFrame'>\n",
      "RangeIndex: 2372 entries, 0 to 2371\n",
      "Data columns (total 10 columns):\n",
      "SNo                 2372 non-null int64\n",
      "Date                2372 non-null object\n",
      "StartupName         2372 non-null object\n",
      "IndustryVertical    2201 non-null object\n",
      "SubVertical         1436 non-null object\n",
      "CityLocation        2193 non-null object\n",
      "InvestorsName       2364 non-null object\n",
      "InvestmentType      2371 non-null object\n",
      "AmountInUSD         1525 non-null object\n",
      "Remarks             419 non-null object\n",
      "dtypes: int64(1), object(9)\n",
      "memory usage: 185.4+ KB\n"
     ]
    }
   ],
   "source": [
    "data.info()"
   ]
  },
  {
   "cell_type": "code",
   "execution_count": 14,
   "metadata": {},
   "outputs": [
    {
     "data": {
      "text/plain": [
       "<bound method NDFrame.describe of        SNo         Date       StartupName   IndustryVertical  \\\n",
       "0        0   01/08/2017          TouchKin         Technology   \n",
       "1        1   02/08/2017           Ethinos         Technology   \n",
       "2        2   02/08/2017      Leverage Edu  Consumer Internet   \n",
       "3        3   02/08/2017              Zepo  Consumer Internet   \n",
       "4        4   02/08/2017      Click2Clinic  Consumer Internet   \n",
       "5        5   01/07/2017     Billion Loans  Consumer Internet   \n",
       "6        6   03/07/2017  Ecolibriumenergy         Technology   \n",
       "7        7   04/07/2017             Droom          eCommerce   \n",
       "8        8   05/07/2017         Jumbotail          eCommerce   \n",
       "9        9   05/07/2017            Moglix          eCommerce   \n",
       "10      10   05/07/2017        Timesaverz  Consumer Internet   \n",
       "11      11   06/07/2017            Minjar         Technology   \n",
       "12      12   06/07/2017       MyCity4kids  Consumer Internet   \n",
       "13      13   07/07/2017          Clip App  Consumer Internet   \n",
       "14      14   07/07/2017       Upwardly.in  Consumer Internet   \n",
       "15      15   10/07/2017        Autorox.co         Technology   \n",
       "16      16   11/07/2017            Fabogo  Consumer Internet   \n",
       "17      17   11/07/2017        Flickstree  Consumer Internet   \n",
       "18      18   11/07/2017       Design Cafe  Consumer Internet   \n",
       "19      19   12/07/2017          Innoviti         Technology   \n",
       "20      20   12/07/2017          VDeliver          Logistics   \n",
       "21      21   12/07/2017          Bottr.me         Technology   \n",
       "22      22   12/07/2017          Arcatron         Technology   \n",
       "23      23   14/07/2017          QwikSpec         Technology   \n",
       "24      24   14/07/2017           Chumbak          eCommerce   \n",
       "25      25   17/07/2017           Increff         Technology   \n",
       "26      26   17/07/2017            Vayana         Technology   \n",
       "27      27   18/07/2017         MObiquest         Technology   \n",
       "28      28   18/07/2017             Ambee  Consumer Internet   \n",
       "29      29   18/07/2017   Ideal Insurance  Consumer Internet   \n",
       "...    ...          ...               ...                ...   \n",
       "2342  2342   19/01/2015           Refiral                NaN   \n",
       "2343  2343   19/01/2015      Ping Digital                NaN   \n",
       "2344  2344   19/01/2015   HealthyWorld.in                NaN   \n",
       "2345  2345   19/01/2015      Hostel Dunia                NaN   \n",
       "2346  2346   19/01/2015   Play your sport                NaN   \n",
       "2347  2347   19/01/2015           Yo Grad                NaN   \n",
       "2348  2348   19/01/2015            Enabli                NaN   \n",
       "2349  2349   19/01/2015               CBS                NaN   \n",
       "2350  2350   20/01/2015         Hopscotch                NaN   \n",
       "2351  2351   20/01/2015  Amagi Media Labs                NaN   \n",
       "2352  2352   20/01/2015   HealthyWorld.in                NaN   \n",
       "2353  2353   21/01/2015       Simplilearn                NaN   \n",
       "2354  2354   21/01/2015      MyDreamStore                NaN   \n",
       "2355  2355   21/05/2015              Knit                NaN   \n",
       "2356  2356   21/05/2015           Villgro                NaN   \n",
       "2357  2357  22/01//2015      Corporate360                NaN   \n",
       "2358  2358   22/01/2015         Freshmonk                NaN   \n",
       "2359  2359   22/01/2015   Englishleap.com                NaN   \n",
       "2360  2360   22/01/2015            Antuit                NaN   \n",
       "2361  2361   22/01/2015     Caratlane.com                NaN   \n",
       "2362  2362   24/01/2015        Aasaanjobs                NaN   \n",
       "2363  2363   24/01/2015          Impartus                NaN   \n",
       "2364  2364   25/01/2015        Thrill App                NaN   \n",
       "2365  2365   27/01/2015      CarDekho.com                NaN   \n",
       "2366  2366   28/01/2015     Grabhouse.com                NaN   \n",
       "2367  2367   29/01/2015        Printvenue                NaN   \n",
       "2368  2368   29/01/2015          Graphene                NaN   \n",
       "2369  2369   30/01/2015    Mad Street Den                NaN   \n",
       "2370  2370   30/01/2015         Simplotel                NaN   \n",
       "2371  2371   31/01/2015  couponmachine.in                NaN   \n",
       "\n",
       "                                            SubVertical CityLocation  \\\n",
       "0                              Predictive Care Platform    Bangalore   \n",
       "1                              Digital Marketing Agency       Mumbai   \n",
       "2         Online platform for Higher Education Services    New Delhi   \n",
       "3                                DIY Ecommerce platform       Mumbai   \n",
       "4                         healthcare service aggregator    Hyderabad   \n",
       "5                         Peer to Peer Lending platform    Bangalore   \n",
       "6                  Energy management solutions provider    Ahmedabad   \n",
       "7                    Online marketplace for automobiles      Gurgaon   \n",
       "8               online marketplace for food and grocery    Bangalore   \n",
       "9               B2B marketplace for Industrial products        Noida   \n",
       "10                    Hyperlocal home services provider       Mumbai   \n",
       "11                             Cloud Solutions provider    Bangalore   \n",
       "12    parenting blog and kids’ events discovery plat...      Gurgaon   \n",
       "13                         Digital Media Video platform    Bangalore   \n",
       "14                               MF investment platform    Bangalore   \n",
       "15                Workshop Management Software Platform    Hyderabad   \n",
       "16         Salon & Spa Aggregation & Discovery platform         Pune   \n",
       "17                     Video Content Discovery Platform       Mumbai   \n",
       "18                      Online Interior Design platform    Bangalore   \n",
       "19                           Digital payments solutions    Bangalore   \n",
       "20                          Door Step Delivery platform    Hyderabad   \n",
       "21                                Chatbot creation tool    Bangalore   \n",
       "22                Next Gen Mobility device manufacturer         Pune   \n",
       "23    Construction site operations and analytics pla...    Bangalore   \n",
       "24               Designer consumer products Marketplace    Bangalore   \n",
       "25                   Sales Solutions for Fashion Brands    Bangalore   \n",
       "26                         Enterprise Banking Solutions         Pune   \n",
       "27                          Mobile Services & Solutions        Noida   \n",
       "28                       Ambulance Aggregation Services    Hyderabad   \n",
       "29                            Online Insurance platform      Kolkata   \n",
       "...                                                 ...          ...   \n",
       "2342                                                NaN          NaN   \n",
       "2343                                                NaN          NaN   \n",
       "2344                                                NaN          NaN   \n",
       "2345                                                NaN          NaN   \n",
       "2346                                                NaN          NaN   \n",
       "2347                                                NaN          NaN   \n",
       "2348                                                NaN          NaN   \n",
       "2349                                                NaN          NaN   \n",
       "2350                                                NaN          NaN   \n",
       "2351                                                NaN          NaN   \n",
       "2352                                                NaN          NaN   \n",
       "2353                                                NaN          NaN   \n",
       "2354                                                NaN          NaN   \n",
       "2355                                                NaN          NaN   \n",
       "2356                                                NaN          NaN   \n",
       "2357                                                NaN          NaN   \n",
       "2358                                                NaN          NaN   \n",
       "2359                                                NaN          NaN   \n",
       "2360                                                NaN          NaN   \n",
       "2361                                                NaN          NaN   \n",
       "2362                                                NaN          NaN   \n",
       "2363                                                NaN          NaN   \n",
       "2364                                                NaN          NaN   \n",
       "2365                                                NaN          NaN   \n",
       "2366                                                NaN          NaN   \n",
       "2367                                                NaN          NaN   \n",
       "2368                                                NaN          NaN   \n",
       "2369                                                NaN          NaN   \n",
       "2370                                                NaN          NaN   \n",
       "2371                                                NaN          NaN   \n",
       "\n",
       "                                          InvestorsName  InvestmentType  \\\n",
       "0                                           Kae Capital  Private Equity   \n",
       "1                            Triton Investment Advisors  Private Equity   \n",
       "2     Kashyap Deorah, Anand Sankeshwar, Deepak Jain,...    Seed Funding   \n",
       "3     Kunal Shah, LetsVenture, Anupam Mittal, Hetal ...    Seed Funding   \n",
       "4                        Narottam Thudi, Shireesh Palle    Seed Funding   \n",
       "5              Reliance Corporate Advisory Services Ltd    Seed Funding   \n",
       "6                                  Infuse Ventures, JLL  Private Equity   \n",
       "7       Asset Management (Asia) Ltd, Digital Garage Inc  Private Equity   \n",
       "8         Kalaari Capital, Nexus India Capital Advisors  Private Equity   \n",
       "9     International Finance Corporation, Rocketship,...  Private Equity   \n",
       "10                                                 BCCL  Private Equity   \n",
       "11    Blume Ventures, Contrarian Capital India Partn...    Seed Funding   \n",
       "12                                                  NaN    Seed Funding   \n",
       "13                      India Quotient, Shunwei Capital    Seed Funding   \n",
       "14    Sreeram Iyer, Suvo Sarkar, Anita Gupta, Likemi...    Seed Funding   \n",
       "15                                         Mitsui & Co.  Private Equity   \n",
       "16                             Dunamis Ventures Pte Ltd  Private Equity   \n",
       "17    Venture Catalysts, Sourav Ganguly, Ankit Adity...    Seed Funding   \n",
       "18    Fireside Ventures, Apurva Salarpuria, Sidharth...    Seed Funding   \n",
       "19    SBI-FMO Fund, Bessemer Venture Partners, Catam...  Private Equity   \n",
       "20                 Corvus Ventures, MAPE Advisory Group  Private Equity   \n",
       "21    500 Startups, Purvi Capital, Rajan Anandan, Ab...    Seed Funding   \n",
       "22                                 Indian Angel Network    Seed Funding   \n",
       "23    Brigade Innovations LLP, TV Mohandas Pai, Suha...    Seed Funding   \n",
       "24                           Blacksoil Capital Pvt. Ltd  Private Equity   \n",
       "25    Sequoia Capital, Grey Orange, Rajesh Ramaiah, ...    Seed Funding   \n",
       "26         IDG Ventures India Advisors, Jungle Ventures  Private Equity   \n",
       "27                              One97 Communication Ltd  Private Equity   \n",
       "28             Uber Technologies Inc, Amaya Capital LLP    Seed Funding   \n",
       "29                                              Xelpmoc    Seed Funding   \n",
       "...                                                 ...             ...   \n",
       "2342                                  Cogent E Services    Seed Funding   \n",
       "2343                      Consortium of Angel Investors    Seed Funding   \n",
       "2344                           Group of Angel Investors    Seed Funding   \n",
       "2345         Hyderabad Angels (at Startup Heroes event)    Seed Funding   \n",
       "2346         Hyderabad Angels (at Startup Heroes event)    Seed Funding   \n",
       "2347         Hyderabad Angels (at Startup Heroes event)    Seed Funding   \n",
       "2348         Hyderabad Angels (at Startup Heroes event)    Seed Funding   \n",
       "2349         Hyderabad Angels (at Startup Heroes event)    Seed Funding   \n",
       "2350                    Eduardo Saverin & Velos Capital  Private Equity   \n",
       "2351                      Premji Invest & Mayfield Fund  Private Equity   \n",
       "2352                           Group of Angel Investors    Seed Funding   \n",
       "2353   Mayfield India, Kalaari Capital, Helion Ventures  Private Equity   \n",
       "2354                              Undisclosed Investors    Seed Funding   \n",
       "2355                  Rohit Jain, Amit Rambhia & Others    Seed Funding   \n",
       "2356                    Michael & Susan Dell Foundation    Seed Funding   \n",
       "2357                           Group of Angel Investors    Seed Funding   \n",
       "2358            August Capital Partners, Michael Blakey    Seed Funding   \n",
       "2359                                             ANALEC  Private Equity   \n",
       "2360                      Goldman Sachs, Zodius Capital  Private Equity   \n",
       "2361                                       Tiger Global  Private Equity   \n",
       "2362            Inventus Capital Partners, IDG Ventures    Seed Funding   \n",
       "2363                              Kaizen Private Equity  Private Equity   \n",
       "2364                          People Group (Shaadi.com)  Private Equity   \n",
       "2365                Hillhouse Capital, Tybourne Capital  Private Equity   \n",
       "2366                   Kalaari Capital, Sequoia Capital  Private Equity   \n",
       "2367                        Asia Pacific Internet Group  Private Equity   \n",
       "2368                                     KARSEMVEN Fund  Private Equity   \n",
       "2369                     Exfinity Fund, GrowX Ventures.  Private Equity   \n",
       "2370                                         MakeMyTrip  Private Equity   \n",
       "2371                  UK based Group of Angel Investors    Seed Funding   \n",
       "\n",
       "     AmountInUSD                            Remarks  \n",
       "0      1,300,000                                NaN  \n",
       "1            NaN                                NaN  \n",
       "2            NaN                                NaN  \n",
       "3        500,000                                NaN  \n",
       "4        850,000                                NaN  \n",
       "5      1,000,000                                NaN  \n",
       "6      2,600,000                                NaN  \n",
       "7     20,000,000                                NaN  \n",
       "8      8,500,000                                NaN  \n",
       "9     12,000,000                                NaN  \n",
       "10     1,000,000                                NaN  \n",
       "11           NaN                                NaN  \n",
       "12           NaN                                NaN  \n",
       "13     1,000,000                                NaN  \n",
       "14           NaN                                NaN  \n",
       "15     3,000,000                                NaN  \n",
       "16     2,250,000                                NaN  \n",
       "17       464,000                                NaN  \n",
       "18           NaN                                NaN  \n",
       "19    18,500,000                                NaN  \n",
       "20           NaN                                NaN  \n",
       "21           NaN                                NaN  \n",
       "22           NaN                                NaN  \n",
       "23       540,000                                NaN  \n",
       "24     1,700,000                                NaN  \n",
       "25     2,000,000                                NaN  \n",
       "26     4,000,000                                NaN  \n",
       "27           NaN                                NaN  \n",
       "28           NaN                                NaN  \n",
       "29           NaN                                NaN  \n",
       "...          ...                                ...  \n",
       "2342     330,000                                NaN  \n",
       "2343         NaN                                NaN  \n",
       "2344     200,000                                NaN  \n",
       "2345      16,000                                NaN  \n",
       "2346      16,000                                NaN  \n",
       "2347      16,000                                NaN  \n",
       "2348      16,000                                NaN  \n",
       "2349      16,000                                NaN  \n",
       "2350  11,000,000                                NaN  \n",
       "2351         NaN                                NaN  \n",
       "2352     200,000                                NaN  \n",
       "2353  14,750,000                                NaN  \n",
       "2354     325,000                                NaN  \n",
       "2355         NaN                                NaN  \n",
       "2356   3,250,000               To fund edu startups  \n",
       "2357     200,000                                NaN  \n",
       "2358         NaN                                NaN  \n",
       "2359         NaN                     Majority Stake  \n",
       "2360  56,000,000                                NaN  \n",
       "2361  31,000,000                           Series D  \n",
       "2362   1,500,000                                NaN  \n",
       "2363         NaN                           Series A  \n",
       "2364   1,000,000                  Strategic Funding  \n",
       "2365  50,000,000                           Series B  \n",
       "2366   2,500,000                           Series A  \n",
       "2367   4,500,000                                NaN  \n",
       "2368     825,000                Govt backed VC Fund  \n",
       "2369   1,500,000                                NaN  \n",
       "2370         NaN  Strategic Funding, Minority stake  \n",
       "2371     140,000                                NaN  \n",
       "\n",
       "[2372 rows x 10 columns]>"
      ]
     },
     "execution_count": 14,
     "metadata": {},
     "output_type": "execute_result"
    }
   ],
   "source": [
    "data.describe"
   ]
  },
  {
   "cell_type": "code",
   "execution_count": 15,
   "metadata": {},
   "outputs": [
    {
     "data": {
      "text/plain": [
       "Index(['SNo', 'Date', 'StartupName', 'IndustryVertical', 'SubVertical',\n",
       "       'CityLocation', 'InvestorsName', 'InvestmentType', 'AmountInUSD',\n",
       "       'Remarks'],\n",
       "      dtype='object')"
      ]
     },
     "execution_count": 15,
     "metadata": {},
     "output_type": "execute_result"
    }
   ],
   "source": [
    "data.columns"
   ]
  },
  {
   "cell_type": "markdown",
   "metadata": {},
   "source": [
    "# Data Cleaning"
   ]
  },
  {
   "cell_type": "code",
   "execution_count": 16,
   "metadata": {},
   "outputs": [],
   "source": [
    "data.fillna({'IndustryVertical':'No industry'},inplace=True)\n",
    "data.fillna({'StartupName':'No startup'},inplace=True)\n",
    "data.fillna({'CityLocation':'No location'},inplace=True)\n",
    "data.fillna({'Remarks':'No remarks'},inplace=True)\n",
    "data.fillna({'AmountInUSD':'0.0'},inplace=True)\n",
    "data['AmountInUSD']=data['AmountInUSD'].str.replace(',','').astype(float)"
   ]
  },
  {
   "cell_type": "markdown",
   "metadata": {},
   "source": [
    "# Q) Which location has most remarks?"
   ]
  },
  {
   "cell_type": "code",
   "execution_count": 18,
   "metadata": {},
   "outputs": [
    {
     "data": {
      "text/plain": [
       "Bangalore      627\n",
       "Mumbai         446\n",
       "New Delhi      381\n",
       "Gurgaon        240\n",
       "No location    179\n",
       "Name: CityLocation, dtype: int64"
      ]
     },
     "execution_count": 18,
     "metadata": {},
     "output_type": "execute_result"
    }
   ],
   "source": [
    "data['CityLocation'].value_counts().head()"
   ]
  },
  {
   "cell_type": "code",
   "execution_count": 19,
   "metadata": {},
   "outputs": [
    {
     "data": {
      "text/plain": [
       "Online Pharmacy             9\n",
       "Food Delivery Platform      8\n",
       "Online lending platform     5\n",
       "Online Learning Platform    4\n",
       "Data Analytics platform     3\n",
       "Name: SubVertical, dtype: int64"
      ]
     },
     "execution_count": 19,
     "metadata": {},
     "output_type": "execute_result"
    }
   ],
   "source": [
    "data['SubVertical'].value_counts().head()"
   ]
  },
  {
   "cell_type": "code",
   "execution_count": 20,
   "metadata": {},
   "outputs": [
    {
     "data": {
      "text/plain": [
       "CityLocation\n",
       "Bangalore      627\n",
       "Mumbai         446\n",
       "New Delhi      381\n",
       "Gurgaon        240\n",
       "No location    179\n",
       "Name: Remarks, dtype: int64"
      ]
     },
     "execution_count": 20,
     "metadata": {},
     "output_type": "execute_result"
    }
   ],
   "source": [
    "#answer:\n",
    "data.groupby('CityLocation')['Remarks'].count().sort_values(ascending=False).head()"
   ]
  },
  {
   "cell_type": "markdown",
   "metadata": {},
   "source": [
    "# Exploratory Data Analysis in 2017 "
   ]
  },
  {
   "cell_type": "code",
   "execution_count": 21,
   "metadata": {},
   "outputs": [],
   "source": [
    "date_2017=[]\n",
    "for i in range(len(data)):\n",
    "    if(data['Date'][i][6:10]=='2017'):\n",
    "        date_2017.append(data['Date'][i])"
   ]
  },
  {
   "cell_type": "code",
   "execution_count": 22,
   "metadata": {},
   "outputs": [],
   "source": [
    "a=np.array(date_2017)"
   ]
  },
  {
   "cell_type": "code",
   "execution_count": 23,
   "metadata": {},
   "outputs": [],
   "source": [
    "data_2017=[]\n",
    "data_2017=data[data['Date'].isin(a)]"
   ]
  },
  {
   "cell_type": "code",
   "execution_count": 25,
   "metadata": {},
   "outputs": [
    {
     "data": {
      "text/plain": [
       "(442, 10)"
      ]
     },
     "execution_count": 25,
     "metadata": {},
     "output_type": "execute_result"
    }
   ],
   "source": [
    "data_2017.shape"
   ]
  },
  {
   "cell_type": "code",
   "execution_count": 26,
   "metadata": {},
   "outputs": [
    {
     "data": {
      "text/plain": [
       "<matplotlib.axes._subplots.AxesSubplot at 0x13d0f106da0>"
      ]
     },
     "execution_count": 26,
     "metadata": {},
     "output_type": "execute_result"
    },
    {
     "data": {
      "image/png": "[encoded data removed]",
      "text/plain": [
       "<Figure size 432x288 with 1 Axes>"
      ]
     },
     "metadata": {
      "needs_background": "light"
     },
     "output_type": "display_data"
    }
   ],
   "source": [
    "ct=pd.crosstab(data_2017['CityLocation'],data_2017['InvestmentType'])\n",
    "ct.plot(kind='bar')"
   ]
  },
  {
   "cell_type": "code",
   "execution_count": 27,
   "metadata": {},
   "outputs": [
    {
     "data": {
      "text/plain": [
       "<matplotlib.axes._subplots.AxesSubplot at 0x13d0f43c828>"
      ]
     },
     "execution_count": 27,
     "metadata": {},
     "output_type": "execute_result"
    },
    {
     "data": {
      "image/png": "[encoded data removed]",
      "text/plain": [
       "<Figure size 432x288 with 2 Axes>"
      ]
     },
     "metadata": {
      "needs_background": "light"
     },
     "output_type": "display_data"
    }
   ],
   "source": [
    "sns.heatmap(ct)"
   ]
  },
  {
   "cell_type": "code",
   "execution_count": 28,
   "metadata": {},
   "outputs": [
    {
     "data": {
      "text/plain": [
       "<matplotlib.axes._subplots.AxesSubplot at 0x13d0f507f98>"
      ]
     },
     "execution_count": 28,
     "metadata": {},
     "output_type": "execute_result"
    },
    {
     "data": {
      "image/png": "[encoded data removed]",
      "text/plain": [
       "<Figure size 432x288 with 1 Axes>"
      ]
     },
     "metadata": {
      "needs_background": "light"
     },
     "output_type": "display_data"
    }
   ],
   "source": [
    "ct1=pd.crosstab(data_2017['IndustryVertical'],data_2017['Remarks'])\n",
    "ct1.plot(kind='bar',color='red')\n"
   ]
  },
  {
   "cell_type": "code",
   "execution_count": 29,
   "metadata": {},
   "outputs": [
    {
     "data": {
      "text/plain": [
       "<matplotlib.axes._subplots.AxesSubplot at 0x13d0a130978>"
      ]
     },
     "execution_count": 29,
     "metadata": {},
     "output_type": "execute_result"
    },
    {
     "data": {
      "image/png": "[encoded data removed]",
      "text/plain": [
       "<Figure size 432x288 with 2 Axes>"
      ]
     },
     "metadata": {
      "needs_background": "light"
     },
     "output_type": "display_data"
    }
   ],
   "source": [
    "sns.heatmap(ct1)"
   ]
  },
  {
   "cell_type": "markdown",
   "metadata": {},
   "source": [
    "# Q) Which location has most consumer internet industry?"
   ]
  },
  {
   "cell_type": "code",
   "execution_count": 31,
   "metadata": {
    "scrolled": true
   },
   "outputs": [
    {
     "data": {
      "text/plain": [
       "Consumer Internet    772\n",
       "Technology           313\n",
       "eCommerce            171\n",
       "No industry          171\n",
       "ECommerce             53\n",
       "Name: IndustryVertical, dtype: int64"
      ]
     },
     "execution_count": 31,
     "metadata": {},
     "output_type": "execute_result"
    }
   ],
   "source": [
    "data['IndustryVertical'].value_counts().head()"
   ]
  },
  {
   "cell_type": "code",
   "execution_count": 32,
   "metadata": {},
   "outputs": [],
   "source": [
    "data_internet=data[data['IndustryVertical']=='Consumer Internet']"
   ]
  },
  {
   "cell_type": "code",
   "execution_count": 33,
   "metadata": {},
   "outputs": [
    {
     "data": {
      "text/plain": [
       "CityLocation\n",
       "Bangalore    232\n",
       "Mumbai       162\n",
       "New Delhi    129\n",
       "Gurgaon       87\n",
       "Noida         29\n",
       "Name: IndustryVertical, dtype: int64"
      ]
     },
     "execution_count": 33,
     "metadata": {},
     "output_type": "execute_result"
    }
   ],
   "source": [
    "#answer:\n",
    "data_internet.groupby('CityLocation')['IndustryVertical'].count().sort_values(ascending=False).head()"
   ]
  },
  {
   "cell_type": "markdown",
   "metadata": {},
   "source": [
    "# Q) Which industry uses more seed funding investment?"
   ]
  },
  {
   "cell_type": "code",
   "execution_count": 36,
   "metadata": {},
   "outputs": [
    {
     "data": {
      "text/plain": [
       "Seed Funding      1271\n",
       "Private Equity    1066\n",
       "SeedFunding         30\n",
       "Debt Funding         1\n",
       "PrivateEquity        1\n",
       "Crowd funding        1\n",
       "Crowd Funding        1\n",
       "Name: InvestmentType, dtype: int64"
      ]
     },
     "execution_count": 36,
     "metadata": {},
     "output_type": "execute_result"
    }
   ],
   "source": [
    "data['InvestmentType'].value_counts()"
   ]
  },
  {
   "cell_type": "code",
   "execution_count": 37,
   "metadata": {},
   "outputs": [],
   "source": [
    "data_seed=data[data['InvestmentType']=='Seed Funding']"
   ]
  },
  {
   "cell_type": "code",
   "execution_count": 38,
   "metadata": {},
   "outputs": [
    {
     "data": {
      "text/plain": [
       "IndustryVertical\n",
       "Consumer Internet    473\n",
       "Technology           163\n",
       "eCommerce             80\n",
       "No industry           55\n",
       "ECommerce             23\n",
       "Name: InvestmentType, dtype: int64"
      ]
     },
     "execution_count": 38,
     "metadata": {},
     "output_type": "execute_result"
    }
   ],
   "source": [
    "#answer:\n",
    "data_seed.groupby('IndustryVertical')['InvestmentType'].count().sort_values(ascending=False).head()"
   ]
  },
  {
   "cell_type": "markdown",
   "metadata": {},
   "source": [
    "# plotting some graphs for analysis in 2017 dataset ( EDA )"
   ]
  },
  {
   "cell_type": "code",
   "execution_count": 39,
   "metadata": {},
   "outputs": [],
   "source": [
    "a=data_2017['CityLocation'].values"
   ]
  },
  {
   "cell_type": "code",
   "execution_count": 40,
   "metadata": {},
   "outputs": [],
   "source": [
    "b=data_2017['IndustryVertical'].values"
   ]
  },
  {
   "cell_type": "code",
   "execution_count": 41,
   "metadata": {},
   "outputs": [
    {
     "data": {
      "text/plain": [
       "<matplotlib.collections.PathCollection at 0x13d0f667240>"
      ]
     },
     "execution_count": 41,
     "metadata": {},
     "output_type": "execute_result"
    },
    {
     "data": {
      "image/png": "[encoded data removed]",
      "text/plain": [
       "<Figure size 432x288 with 1 Axes>"
      ]
     },
     "metadata": {
      "needs_background": "light"
     },
     "output_type": "display_data"
    }
   ],
   "source": [
    "plt.scatter(a,b)"
   ]
  },
  {
   "cell_type": "code",
   "execution_count": 42,
   "metadata": {},
   "outputs": [
    {
     "name": "stderr",
     "output_type": "stream",
     "text": [
      "C:\\Users\\USER\\Anaconda3\\lib\\site-packages\\scipy\\stats\\stats.py:1713: FutureWarning: Using a non-tuple sequence for multidimensional indexing is deprecated; use `arr[tuple(seq)]` instead of `arr[seq]`. In the future this will be interpreted as an array index, `arr[np.array(seq)]`, which will result either in an error or a different result.\n",
      "  return np.add.reduce(sorted[indexer] * weights, axis=axis) / sumval\n"
     ]
    },
    {
     "data": {
      "text/plain": [
       "<matplotlib.axes._subplots.AxesSubplot at 0x13d0f6bcfd0>"
      ]
     },
     "execution_count": 42,
     "metadata": {},
     "output_type": "execute_result"
    },
    {
     "data": {
      "image/png": "[encoded data removed]",
      "text/plain": [
       "<Figure size 432x288 with 1 Axes>"
      ]
     },
     "metadata": {
      "needs_background": "light"
     },
     "output_type": "display_data"
    }
   ],
   "source": [
    "sns.barplot(x='AmountInUSD',y='CityLocation', data=data_2017)"
   ]
  },
  {
   "cell_type": "markdown",
   "metadata": {},
   "source": [
    "# Exploratory Data Analysis in 2015"
   ]
  },
  {
   "cell_type": "code",
   "execution_count": 43,
   "metadata": {},
   "outputs": [],
   "source": [
    "date_2015=[]\n",
    "for i in range(len(data)):\n",
    "    if(data['Date'][i][6:10]=='2015'):\n",
    "        date_2015.append(data['Date'][i])"
   ]
  },
  {
   "cell_type": "code",
   "execution_count": 44,
   "metadata": {},
   "outputs": [],
   "source": [
    "b=np.array(date_2015)\n",
    "data_2015=[]\n",
    "data_2015=data[data['Date'].isin(b)]"
   ]
  },
  {
   "cell_type": "code",
   "execution_count": 46,
   "metadata": {},
   "outputs": [
    {
     "data": {
      "text/plain": [
       "(871, 10)"
      ]
     },
     "execution_count": 46,
     "metadata": {},
     "output_type": "execute_result"
    }
   ],
   "source": [
    "data_2015.shape"
   ]
  },
  {
   "cell_type": "code",
   "execution_count": 47,
   "metadata": {},
   "outputs": [
    {
     "data": {
      "text/plain": [
       "<matplotlib.axes._subplots.AxesSubplot at 0x13d0f8222e8>"
      ]
     },
     "execution_count": 47,
     "metadata": {},
     "output_type": "execute_result"
    },
    {
     "data": {
      "image/png": "[encoded data removed]",
      "text/plain": [
       "<Figure size 432x288 with 1 Axes>"
      ]
     },
     "metadata": {
      "needs_background": "light"
     },
     "output_type": "display_data"
    }
   ],
   "source": [
    "ct=pd.crosstab(data_2015['CityLocation'],data_2015['InvestmentType'])\n",
    "ct.plot(kind='bar')"
   ]
  },
  {
   "cell_type": "code",
   "execution_count": 48,
   "metadata": {},
   "outputs": [
    {
     "data": {
      "text/plain": [
       "<matplotlib.axes._subplots.AxesSubplot at 0x13d0f8171d0>"
      ]
     },
     "execution_count": 48,
     "metadata": {},
     "output_type": "execute_result"
    },
    {
     "data": {
      "image/png": "[encoded data removed]",
      "text/plain": [
       "<Figure size 432x288 with 2 Axes>"
      ]
     },
     "metadata": {
      "needs_background": "light"
     },
     "output_type": "display_data"
    }
   ],
   "source": [
    "sns.heatmap(ct)"
   ]
  },
  {
   "cell_type": "code",
   "execution_count": 49,
   "metadata": {},
   "outputs": [
    {
     "data": {
      "text/plain": [
       "<matplotlib.axes._subplots.AxesSubplot at 0x13d0fc313c8>"
      ]
     },
     "execution_count": 49,
     "metadata": {},
     "output_type": "execute_result"
    },
    {
     "data": {
      "image/png": "[encoded data removed]",
      "text/plain": [
       "<Figure size 432x288 with 1 Axes>"
      ]
     },
     "metadata": {},
     "output_type": "display_data"
    }
   ],
   "source": [
    "data_2015['CityLocation'].value_counts().plot(kind='pie',autopct='%0.2f')"
   ]
  },
  {
   "cell_type": "code",
   "execution_count": 50,
   "metadata": {},
   "outputs": [
    {
     "data": {
      "text/plain": [
       "<matplotlib.axes._subplots.AxesSubplot at 0x13d0fd4a780>"
      ]
     },
     "execution_count": 50,
     "metadata": {},
     "output_type": "execute_result"
    },
    {
     "data": {
      "image/png": "[encoded data removed]",
      "text/plain": [
       "<Figure size 432x288 with 1 Axes>"
      ]
     },
     "metadata": {
      "needs_background": "light"
     },
     "output_type": "display_data"
    }
   ],
   "source": [
    "data_2015['CityLocation'].value_counts().plot(kind='bar')"
   ]
  },
  {
   "cell_type": "markdown",
   "metadata": {},
   "source": [
    "# Name of the top 5 investors invested highest amount through seed funding in bangalore?"
   ]
  },
  {
   "cell_type": "code",
   "execution_count": 51,
   "metadata": {},
   "outputs": [],
   "source": [
    "data_bangalore=data[data['CityLocation']=='Bangalore']"
   ]
  },
  {
   "cell_type": "code",
   "execution_count": 52,
   "metadata": {},
   "outputs": [],
   "source": [
    "data_seed=data_bangalore[data_bangalore['InvestmentType']=='Seed Funding']"
   ]
  },
  {
   "cell_type": "code",
   "execution_count": 53,
   "metadata": {},
   "outputs": [
    {
     "data": {
      "text/plain": [
       "InvestorsName\n",
       "Jitu Virwani                                      7500000.0\n",
       "undisclosed investors                             3590000.0\n",
       "Vipul Parekh, ajesh K Murthy,                     2500000.0\n",
       "Undisclosed investors                             2350000.0\n",
       "Chicago Capital Ventures, Sanjay Mehta, Others    2000000.0\n",
       "Name: AmountInUSD, dtype: float64"
      ]
     },
     "execution_count": 53,
     "metadata": {},
     "output_type": "execute_result"
    }
   ],
   "source": [
    "#answer:\n",
    "data_seed.groupby('InvestorsName')['AmountInUSD'].sum().sort_values(ascending=False).head()"
   ]
  },
  {
   "cell_type": "code",
   "execution_count": 54,
   "metadata": {},
   "outputs": [
    {
     "data": {
      "text/html": [
       "<div>\n",
       "<style scoped>\n",
       "    .dataframe tbody tr th:only-of-type {\n",
       "        vertical-align: middle;\n",
       "    }\n",
       "\n",
       "    .dataframe tbody tr th {\n",
       "        vertical-align: top;\n",
       "    }\n",
       "\n",
       "    .dataframe thead th {\n",
       "        text-align: right;\n",
       "    }\n",
       "</style>\n",
       "<table border=\"1\" class=\"dataframe\">\n",
       "  <thead>\n",
       "    <tr style=\"text-align: right;\">\n",
       "      <th></th>\n",
       "      <th>SNo</th>\n",
       "      <th>Date</th>\n",
       "      <th>StartupName</th>\n",
       "      <th>IndustryVertical</th>\n",
       "      <th>SubVertical</th>\n",
       "      <th>CityLocation</th>\n",
       "      <th>InvestorsName</th>\n",
       "      <th>InvestmentType</th>\n",
       "      <th>AmountInUSD</th>\n",
       "      <th>Remarks</th>\n",
       "    </tr>\n",
       "  </thead>\n",
       "  <tbody>\n",
       "    <tr>\n",
       "      <th>1568</th>\n",
       "      <td>1568</td>\n",
       "      <td>17/11/2015</td>\n",
       "      <td>StyleTag</td>\n",
       "      <td>Designer fashion Jewellery Marketplace</td>\n",
       "      <td>NaN</td>\n",
       "      <td>Bangalore</td>\n",
       "      <td>Jitu Virwani</td>\n",
       "      <td>Seed Funding</td>\n",
       "      <td>7500000.0</td>\n",
       "      <td>No remarks</td>\n",
       "    </tr>\n",
       "  </tbody>\n",
       "</table>\n",
       "</div>"
      ],
      "text/plain": [
       "       SNo        Date StartupName                        IndustryVertical  \\\n",
       "1568  1568  17/11/2015    StyleTag  Designer fashion Jewellery Marketplace   \n",
       "\n",
       "     SubVertical CityLocation InvestorsName InvestmentType  AmountInUSD  \\\n",
       "1568         NaN    Bangalore  Jitu Virwani   Seed Funding    7500000.0   \n",
       "\n",
       "         Remarks  \n",
       "1568  No remarks  "
      ]
     },
     "execution_count": 54,
     "metadata": {},
     "output_type": "execute_result"
    }
   ],
   "source": [
    "data_seed[data_seed['InvestorsName']=='Jitu Virwani']"
   ]
  },
  {
   "cell_type": "code",
   "execution_count": null,
   "metadata": {},
   "outputs": [],
   "source": []
  }
 ],
 "metadata": {
  "kernelspec": {
   "display_name": "Python 3",
   "language": "python",
   "name": "python3"
  },
  "language_info": {
   "codemirror_mode": {
    "name": "ipython",
    "version": 3
   },
   "file_extension": ".py",
   "mimetype": "text/x-python",
   "name": "python",
   "nbconvert_exporter": "python",
   "pygments_lexer": "ipython3",
   "version": "3.7.1"
  }
 },
 "nbformat": 4,
 "nbformat_minor": 2
}
